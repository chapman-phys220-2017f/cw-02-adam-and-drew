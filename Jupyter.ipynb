{
 "cells": [
  {
   "cell_type": "code",
   "execution_count": null,
   "metadata": {
    "collapsed": true
   },
   "outputs": [],
   "source": [
    " #/usr/bin/env python\n",
    "   \n",
    "\n",
    "#Create a function to generate equally spaced coordinates.\n",
    "\n",
    "#Using for loop \n",
    "\n",
    "def coord_for(n,a,b):\n",
    "    x_for = []\n",
    "    h = (b-a)/n\n",
    "    for i in range(n+1):\n",
    "        x_list.append((a+(I*h)))\n",
    "    return x_list \n",
    "\n",
    "#Using Wjile Loop\n",
    "\n",
    "def coord_while(n,a,b):\n",
    "    x_while = [] \n",
    "    h = (b-a)/n\n",
    "    while a <= b:\n",
    "        x_while.append(a)\n",
    "        a = a+h\n",
    "        return x_while\n",
    "    \n",
    "#Using List Comprehension \n",
    "\n",
    "\n"
   ]
  }
 ],
 "metadata": {
  "kernelspec": {
   "display_name": "Python 2 (SageMath)",
   "language": "python",
   "name": "python2"
  },
  "language_info": {
   "codemirror_mode": {
    "name": "ipython",
    "version": 2
   },
   "file_extension": ".py",
   "mimetype": "text/x-python",
   "name": "python",
   "nbconvert_exporter": "python",
   "pygments_lexer": "ipython2",
   "version": "2.7.13"
  }
 },
 "nbformat": 4,
 "nbformat_minor": 1
}
